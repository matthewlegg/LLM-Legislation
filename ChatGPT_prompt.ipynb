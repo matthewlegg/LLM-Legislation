{
 "cells": [
  {
   "cell_type": "code",
   "execution_count": 1,
   "id": "fitting-hawaiian",
   "metadata": {},
   "outputs": [],
   "source": [
    "import openai\n",
    "import os\n",
    "#openai.api_key_path = \n",
    "from dotenv import load_dotenv, find_dotenv\n",
    "_ = load_dotenv(find_dotenv())\n",
    "\n",
    "openai.api_key  = os.getenv('OPENAI_API_KEY')[1:]"
   ]
  },
  {
   "cell_type": "code",
   "execution_count": 3,
   "id": "automatic-princeton",
   "metadata": {},
   "outputs": [],
   "source": [
    "def get_completion(prompt, model=\"gpt-4\"):\n",
    "    messages = [{\"role\": \"user\", \"content\": prompt}]\n",
    "    response = openai.ChatCompletion.create(\n",
    "        model=model,\n",
    "        messages=messages,\n",
    "        temperature=0, # this is the degree of randomness of the model's output\n",
    "    )\n",
    "    return response.choices[0].message[\"content\"]\n"
   ]
  },
  {
   "cell_type": "code",
   "execution_count": 4,
   "id": "suburban-arrangement",
   "metadata": {},
   "outputs": [
    {
     "name": "stdout",
     "output_type": "stream",
     "text": [
      "Rishi Sunak is a character in the text who is refusing to back down against striking workers. Pat Cullen is the boss of the nurses' union who is urging the prime minister to resolve the crisis.\n"
     ]
    }
   ],
   "source": [
    "text = f\"\"\"\n",
    "Rishi Sunak has insisted he will not back down against striking workers, as nurses walked out in England, Northern Ireland and Wales for a second day.\n",
    "Nurses' union boss Pat Cullen has urged the prime minister to resolve the crisis before Christmas. But there is no sign of a breakthrough between the sides. Speaking to MPs, Mr Sunak argued the best way to help workers would be to reduce inflation as quickly as possible.\n",
    "The UK is facing its biggest week of industrial strikes in recent history in the run up to Christmas, with ambulance workers, customs and immigration staff, bus drivers and postal workers all staging walk outs.\n",
    "The armed forces have been drafted in to cover some jobs - but concern is growing about Wednesday's ambulance drivers strike in England and Wales, with a health minister warning people to avoid \"risky activity\".\n",
    "Head of the NHS confederation, and a former Labour adviser, Matthew Taylor has warned that hospital leaders cannot guarantee patient safety during the strikes.\n",
    "In a letter to Mr Sunak, he said: \"It is clear that we have entered dangerous territory and we hope this warning from NHS leaders should serve to focus minds in government and in the unions that a swift resolution to this damaging dispute is needed.\"\n",
    "\"\"\"\n",
    "prompt = f\"\"\"\n",
    "Identify the following characters from the text: \n",
    "- Rishi Sunak.\n",
    "- Pat Cullen. \n",
    "\n",
    "Give your answer in two separate sentences. Make your response as short as possible.\".\n",
    "\n",
    "Review text: '''{text}'''\n",
    "\"\"\"\n",
    "response = get_completion(prompt)\n",
    "print(response)"
   ]
  },
  {
   "cell_type": "code",
   "execution_count": null,
   "id": "ecological-mortgage",
   "metadata": {},
   "outputs": [],
   "source": []
  }
 ],
 "metadata": {
  "kernelspec": {
   "display_name": "Python 3 (ipykernel)",
   "language": "python",
   "name": "python3"
  },
  "language_info": {
   "codemirror_mode": {
    "name": "ipython",
    "version": 3
   },
   "file_extension": ".py",
   "mimetype": "text/x-python",
   "name": "python",
   "nbconvert_exporter": "python",
   "pygments_lexer": "ipython3",
   "version": "3.9.2"
  }
 },
 "nbformat": 4,
 "nbformat_minor": 5
}
